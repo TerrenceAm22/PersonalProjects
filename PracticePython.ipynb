{
 "cells": [
  {
   "cell_type": "code",
   "execution_count": 9,
   "metadata": {},
   "outputs": [
    {
     "name": "stdout",
     "output_type": "stream",
     "text": [
      "Python\n",
      "Java\n",
      "C++\n",
      "C#\n"
     ]
    }
   ],
   "source": [
    "programming_lang = \"Python\", \"Java\", \"C++\", \"C#\"\n",
    "# Tab should always be four spaces\n",
    "for language in programming_lang:\n",
    "    print(language)\n",
    "    "
   ]
  },
  {
   "cell_type": "code",
   "execution_count": 18,
   "metadata": {},
   "outputs": [
    {
     "name": "stdout",
     "output_type": "stream",
     "text": [
      "[[0, 0, 0], [0, 0, 0], [0, 0, 0]]\n"
     ]
    }
   ],
   "source": [
    "game =[[0,0,0],\n",
    "       [0,0,0,],\n",
    "       [0,0,0],]\n",
    "print(game)"
   ]
  },
  {
   "cell_type": "code",
   "execution_count": 41,
   "metadata": {},
   "outputs": [
    {
     "name": "stdout",
     "output_type": "stream",
     "text": [
      "   a  b  c\n",
      "0 [0, 1, 0]\n",
      "1 [0, 0, 0]\n",
      "2 [0, 0, 0]\n"
     ]
    }
   ],
   "source": [
    "game[0][1] = 1\n",
    "print(\"   a  b  c\")\n",
    "count = 0\n",
    "for count, row in enumerate(game):\n",
    "    print(count, row)\n",
    "\n",
    "    \n"
   ]
  },
  {
   "cell_type": "code",
   "execution_count": 48,
   "metadata": {},
   "outputs": [
    {
     "name": "stdout",
     "output_type": "stream",
     "text": [
      "   a  b  c\n",
      "0 [0, 1, 0]\n",
      "1 [0, 0, 0]\n",
      "2 [0, 1, 0]\n"
     ]
    }
   ],
   "source": [
    "def game_board(player=0, row=0, column=0, just_display=False):\n",
    "    print(\"   a  b  c\")\n",
    "    if not just_display:\n",
    "        game[row][column] = player\n",
    "    for count, row in enumerate(game):\n",
    "        print(count, row)\n",
    "        \n",
    "        \n",
    "game_board(just_display=True)\n",
    "game_board(player=1, row=2, column=1)\n"
   ]
  },
  {
   "cell_type": "code",
   "execution_count": 43,
   "metadata": {},
   "outputs": [
    {
     "name": "stdout",
     "output_type": "stream",
     "text": [
      "8\n"
     ]
    }
   ],
   "source": [
    "def addition(x,y):\n",
    "    return x+y\n",
    "\n",
    "\n",
    "print(addition(5,3))"
   ]
  },
  {
   "cell_type": "code",
   "execution_count": 4,
   "metadata": {},
   "outputs": [
    {
     "name": "stdin",
     "output_type": "stream",
     "text": [
      "What is your name? Allen \n"
     ]
    },
    {
     "name": "stdout",
     "output_type": "stream",
     "text": [
      "Hello Allen \n"
     ]
    }
   ],
   "source": [
    "x = input('What is your name?')\n",
    "print('Hello', x)"
   ]
  },
  {
   "cell_type": "markdown",
   "metadata": {},
   "source": [
    "\n",
    "x = 6\n",
    "\n",
    "if x < y:\n",
    "    print('x is greater than y')\n",
    "if x < 55:\n",
    "    print('booty')\n",
    "else:\n",
    "    print('x is not greater than y')\n",
    "    "
   ]
  },
  {
   "cell_type": "code",
   "execution_count": 14,
   "metadata": {},
   "outputs": [
    {
     "name": "stdout",
     "output_type": "stream",
     "text": [
      "if and elif(s) never ran\n"
     ]
    }
   ],
   "source": [
    "x = 5\n",
    "y = 10\n",
    "z = 22\n",
    "\n",
    "if x > y:\n",
    "    print('x is greater than y')\n",
    "elif x == z:\n",
    "    print('x is less than z')\n",
    "elif 5 == 2:\n",
    "    print('five is greater than two')\n",
    "else:\n",
    "    print('if and elif(s) never ran')"
   ]
  },
  {
   "cell_type": "code",
   "execution_count": null,
   "metadata": {},
   "outputs": [],
   "source": [
    "def "
   ]
  }
 ],
 "metadata": {
  "kernelspec": {
   "display_name": "Python 3",
   "language": "python",
   "name": "python3"
  },
  "language_info": {
   "codemirror_mode": {
    "name": "ipython",
    "version": 3
   },
   "file_extension": ".py",
   "mimetype": "text/x-python",
   "name": "python",
   "nbconvert_exporter": "python",
   "pygments_lexer": "ipython3",
   "version": "3.8.3"
  }
 },
 "nbformat": 4,
 "nbformat_minor": 4
}
